{
 "cells": [
  {
   "cell_type": "code",
   "execution_count": 1,
   "id": "6fc47089",
   "metadata": {},
   "outputs": [],
   "source": [
    "#Warning control\n",
    "import warnings\n",
    "warnings.filterwarnings(\"ignore\")"
   ]
  },
  {
   "cell_type": "code",
   "execution_count": 2,
   "id": "924bf8d4",
   "metadata": {},
   "outputs": [],
   "source": [
    "from crewai import Agent, Task, Crew"
   ]
  },
  {
   "cell_type": "code",
   "execution_count": null,
   "id": "4b4bf4c5",
   "metadata": {},
   "outputs": [],
   "source": [
    "import os\n",
    "\n",
    "# Enter your API keys directly here for notebook usage\n",
    "openai_api_key = input(\"Enter your OpenAI API Key: \")\n",
    "serper_api_key = input(\"Enter your Serper API Key: \")\n",
    "\n",
    "os.environ[\"OPENAI_API_KEY\"] = openai_api_key\n",
    "os.environ[\"OPENAI_MODEL_NAME\"] = \"gpt-4o-mini\"\n",
    "os.environ[\"SERPER_API_KEY\"] = serper_api_key"
   ]
  },
  {
   "cell_type": "code",
   "execution_count": 4,
   "id": "a20242cd",
   "metadata": {},
   "outputs": [
    {
     "name": "stderr",
     "output_type": "stream",
     "text": [
      "d:\\Work\\AI\\Works and Learning\\Deeplearning.ai\\Multi AI Agent Systems with CrewAI\\Projects\\Job Application Crew\\.venv\\lib\\site-packages\\pydantic\\fields.py:1093: PydanticDeprecatedSince20: Using extra keyword arguments on `Field` is deprecated and will be removed. Use `json_schema_extra` instead. (Extra keys: 'required'). Deprecated in Pydantic V2.0 to be removed in V3.0. See Pydantic V2 Migration Guide at https://errors.pydantic.dev/2.11/migration/\n",
      "  warn(\n",
      "d:\\Work\\AI\\Works and Learning\\Deeplearning.ai\\Multi AI Agent Systems with CrewAI\\Projects\\Job Application Crew\\.venv\\lib\\site-packages\\alembic\\config.py:592: DeprecationWarning: No path_separator found in configuration; falling back to legacy splitting on spaces, commas, and colons for prepend_sys_path.  Consider adding path_separator=os to Alembic config.\n",
      "  util.warn_deprecated(\n"
     ]
    }
   ],
   "source": [
    "from crewai_tools import (\n",
    "    FileReadTool,\n",
    "    ScrapeWebsiteTool,\n",
    "    MDXSearchTool,\n",
    "    SerperDevTool\n",
    ")\n",
    "\n",
    "search_tool = SerperDevTool()\n",
    "scrape_tool = ScrapeWebsiteTool()\n",
    "read_resume_tool = FileReadTool(file_path='./fake_resume.md')\n",
    "semantic_search_resume_tool = MDXSearchTool(mdx = './fake_resume.md')"
   ]
  },
  {
   "cell_type": "code",
   "execution_count": 5,
   "id": "6480e83e",
   "metadata": {},
   "outputs": [],
   "source": [
    "#Agent 1: Researcher\n",
    "\n",
    "researcher = Agent(\n",
    "    role = \"Tech Job Researcher\",\n",
    "    goal = \"Make sure to do amazing analysis on job posting to help job applicants\",\n",
    "    tools = [\n",
    "        scrape_tool,\n",
    "        search_tool\n",
    "    ],\n",
    "    verbose = True,\n",
    "    backstory = (\n",
    "        \"As a Job Researcher, your prowess in navigating and extracting critical information from job postings is unmatched. Your skills help pinpoint the necessary qualifications and skills sought by employers, forming the foundation for effective application tailoring.\"\n",
    "    )\n",
    ")"
   ]
  },
  {
   "cell_type": "code",
   "execution_count": 7,
   "id": "ccaeda73",
   "metadata": {},
   "outputs": [],
   "source": [
    "#Agent 2: Profiler\n",
    "\n",
    "profiler = Agent(\n",
    "    role = \"Personal Profiler for Engineers\",\n",
    "    goal = \"Do incredible research on job applicants to help them stand out in the job market\",\n",
    "    tools = [\n",
    "        scrape_tool,\n",
    "        search_tool,\n",
    "        read_resume_tool,\n",
    "        semantic_search_resume_tool\n",
    "    ],\n",
    "    verbose= True,\n",
    "    backstory=(\n",
    "        \"Equipped with analytical prowess, you dissect and synthesize information from diverse sources to craft comprehensive personal and professional profiles, laying the groundwork for personalized resume enhancements.\"\n",
    "    )\n",
    ")"
   ]
  },
  {
   "cell_type": "code",
   "execution_count": 8,
   "id": "88ca05cd",
   "metadata": {},
   "outputs": [],
   "source": [
    "#Agent 3: Resume Strategist\n",
    "\n",
    "resume_strategist = Agent(\n",
    "    role = \"Resume Strategist for Engineers\",\n",
    "    goal = \"Find all the best ways to make a resume stand out in the job market\",\n",
    "    tools= [\n",
    "        scrape_tool,\n",
    "        search_tool,\n",
    "        read_resume_tool,\n",
    "        semantic_search_resume_tool\n",
    "    ],\n",
    "    verbose= True,\n",
    "    backstory= (\n",
    "        \"With a strategic mind and an eye for detail, you excel at refining resumes to highlight the most relevant skills and experiences, ensuring they resonate perfectly with the job's requirements.\"\n",
    "    )\n",
    ")"
   ]
  },
  {
   "cell_type": "code",
   "execution_count": 9,
   "id": "4245004e",
   "metadata": {},
   "outputs": [],
   "source": [
    "#Agent 4: Interview Preparer\n",
    "\n",
    "interview_preparer = Agent(\n",
    "    role = \"Engineering Interview Preparer\",\n",
    "    goal = \"Create interview questions and talking points based on the resume and job requirements\",\n",
    "    tools = [\n",
    "        scrape_tool, \n",
    "        search_tool, \n",
    "        read_resume_tool, \n",
    "        semantic_search_resume_tool\n",
    "    ],\n",
    "    verbose= True,\n",
    "    backstory=(\n",
    "        \"Your role is crucial in anticipating the dynamics of interviews. With your ability to formulate key questions and talking points, you prepare candidates for success, ensuring they can confidently address all aspects of the job they are applying for.\"\n",
    "    )\n",
    ")"
   ]
  },
  {
   "cell_type": "code",
   "execution_count": 13,
   "id": "9011a6b1",
   "metadata": {},
   "outputs": [],
   "source": [
    "# Task 1: Extract Job Requirements - Researcher Agent\n",
    "\n",
    "research_task = Task(\n",
    "    description=(\n",
    "        \"Analyze the job posting URL provided ({job_posting_url}) to extract key skills, experiences, and qualifications required. Use the tools to gather content and identify and categorize the requirements.\"\n",
    "    ),\n",
    "    expected_output=(\n",
    "        \"A structured list of job requirements, including necessary skills, qualifications, and experiences.\"\n",
    "    ),\n",
    "    agent = researcher,\n",
    "    async_execution= True\n",
    ")"
   ]
  },
  {
   "cell_type": "code",
   "execution_count": 14,
   "id": "5effb6b1",
   "metadata": {},
   "outputs": [],
   "source": [
    "#Task 2: Compile Comprehensive Profile - Profiler Agent\n",
    "\n",
    "profile_task = Task(\n",
    "    description=(\n",
    "        \"Compile a detailed personal and professional profile using the GitHub ({github_url}) URLs, and personal write-up ({personal_writeup}). Utilize tools to extract and synthesize information from these sources.\"\n",
    "    ),\n",
    "    expected_output=(\n",
    "        \"A comprehensive profile document that includes skills, project experiences, contributions, interests, and communication style.\"\n",
    "    ),\n",
    "    agent = profiler,\n",
    "    async_execution= True\n",
    ")"
   ]
  },
  {
   "cell_type": "code",
   "execution_count": null,
   "id": "9b2ab24c",
   "metadata": {},
   "outputs": [],
   "source": [
    "#Task 3: Align Resume with job requirements\n",
    "\n",
    "resume_strategy_task = Task(\n",
    "    description=(\n",
    "        \"Using the profile and job requirements obtained from previous tasks, tailor the resume to highlight the most relevant areas. Employ tools to adjust and enhance the resume content. Make sure this is the best resume ever, but don't make up any information. Update every section, including the initial summary, work experience, skills, and education. All to better reflect the candidates abilities and how it matches the job posting.\"\n",
    "    ),\n",
    "    expected_output=(\n",
    "        \"An updated resume that effectively highlights the candidate's qualifications and experiences relevant to the job.\"\n",
    "    ),\n",
    "    output_file= \"tailored_resume.md\",\n",
    "    context=[research_task, profile_task],\n",
    "    agent = resume_strategist\n",
    ")"
   ]
  },
  {
   "cell_type": "code",
   "execution_count": 17,
   "id": "6974b0f0",
   "metadata": {},
   "outputs": [],
   "source": [
    "#Task 4: Interview Preparation Task \n",
    "\n",
    "interview_preparation_task = Task(\n",
    "    description=(\n",
    "        \"Create a set of potential interview questions and talking points based on the tailored resume and job requirements. Utilize tools to generate relevant questions and discussion points. Make sure to use these question and talking points to help the candidate highlight the main points of the resume and how it matches the job posting.\"\n",
    "    ),\n",
    "    expected_output=(\n",
    "        \"A document containing key questions and talking points that the candidate should prepare for the initial interview.\"\n",
    "    ),\n",
    "    output_file= \"interview_preparation.md\",\n",
    "    context= [\n",
    "        research_task,\n",
    "        profile_task,\n",
    "        resume_strategy_task\n",
    "    ],\n",
    "    agent = interview_preparer\n",
    ")"
   ]
  },
  {
   "cell_type": "code",
   "execution_count": 18,
   "id": "a8d66efc",
   "metadata": {},
   "outputs": [],
   "source": [
    "job_application_crew = Crew(\n",
    "    agents = [\n",
    "        researcher,\n",
    "        profiler,\n",
    "        resume_strategist,\n",
    "        interview_preparer\n",
    "    ],\n",
    "\n",
    "    tasks = [\n",
    "        research_task,\n",
    "        profile_task,\n",
    "        resume_strategy_task,\n",
    "        interview_preparation_task\n",
    "    ],\n",
    "\n",
    "    verbose = True\n",
    ")"
   ]
  },
  {
   "cell_type": "code",
   "execution_count": 19,
   "id": "65811259",
   "metadata": {},
   "outputs": [],
   "source": [
    "job_application_inputs = {\n",
    "    'job_posting_url': 'https://jobs.lever.co/AIFund/6c82e23e-d954-4dd8-a734-c0c2c5ee00f1?lever-origin=applied&lever-source%5B%5D=AI+Fund',\n",
    "    'github_url': 'https://github.com/joaomdmoura',\n",
    "    'personal_writeup': \"\"\"Noah is an accomplished Software\n",
    "    Engineering Leader with 18 years of experience, specializing in\n",
    "    managing remote and in-office teams, and expert in multiple\n",
    "    programming languages and frameworks. He holds an MBA and a strong\n",
    "    background in AI and data science. Noah has successfully led\n",
    "    major tech initiatives and startups, proving his ability to drive\n",
    "    innovation and growth in the tech industry. Ideal for leadership\n",
    "    roles that require a strategic and innovative approach.\"\"\"\n",
    "}"
   ]
  },
  {
   "cell_type": "code",
   "execution_count": null,
   "id": "3a680b78",
   "metadata": {},
   "outputs": [],
   "source": [
    "result = job_application_crew.kickoff(inputs=job_application_inputs)"
   ]
  }
 ],
 "metadata": {
  "kernelspec": {
   "display_name": ".venv",
   "language": "python",
   "name": "python3"
  },
  "language_info": {
   "codemirror_mode": {
    "name": "ipython",
    "version": 3
   },
   "file_extension": ".py",
   "mimetype": "text/x-python",
   "name": "python",
   "nbconvert_exporter": "python",
   "pygments_lexer": "ipython3",
   "version": "3.13.5"
  }
 },
 "nbformat": 4,
 "nbformat_minor": 5
}
